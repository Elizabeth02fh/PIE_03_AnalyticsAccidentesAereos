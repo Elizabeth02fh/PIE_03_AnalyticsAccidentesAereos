{
 "cells": [
  {
   "cell_type": "markdown",
   "metadata": {},
   "source": [
    "## PI 3: Análisis de datos - Accidentes de Aviones "
   ]
  },
  {
   "cell_type": "markdown",
   "metadata": {},
   "source": [
    "1- **EDA**\n",
    "\n",
    "Primeramente se procede a realizar Análisis Exploratorio de datos "
   ]
  },
  {
   "cell_type": "code",
   "execution_count": 1,
   "metadata": {},
   "outputs": [],
   "source": [
    "import pandas as pd\n",
    "import numpy as np\n",
    "import matplotlib as plt"
   ]
  },
  {
   "cell_type": "markdown",
   "metadata": {},
   "source": [
    "Letura del dataset proporcionado y el adicional, para el dataset adicional se obtuvo de la página:<br>\n",
    ">\n",
    "https://www.baaa-acro.com/crash-archives?created=1900-01-01&created_1=2022-11-09&field_crash_region_target_id=All&field_crash_country_target_id&field_crash_registration_target_id&field_crash_aircraft_target_id&field_crash_operator_target_id&field_crash_cause_target_id=12990&field_crash_zone_target_id&field_crash_site_type_target_id=All&field_crash_phase_type_target_id=All&field_crash_flight_type_target_id=All&field_crash_survivors_value=All&field_crash_city_target_id&page=511\n"
   ]
  },
  {
   "cell_type": "code",
   "execution_count": 2,
   "metadata": {},
   "outputs": [
    {
     "data": {
      "text/plain": [
       "Index(['fecha', 'HORA declarada', 'Ruta', 'OperadOR', 'flight_no', 'route',\n",
       "       'ac_type', 'registration', 'cn_ln', 'all_aboard', 'PASAJEROS A BORDO',\n",
       "       'crew_aboard', 'cantidad de fallecidos', 'passenger_fatalities',\n",
       "       'crew_fatalities', 'ground', 'summary'],\n",
       "      dtype='object')"
      ]
     },
     "execution_count": 2,
     "metadata": {},
     "output_type": "execute_result"
    }
   ],
   "source": [
    "df = pd.read_csv(\"AccidentesAviones.csv\", sep=',', encoding=\"UTF-8\")\n",
    "\n",
    "#Voy leendo el dataset adicional\n",
    "df1 = pd.read_csv(\"HumanFactor.csv\", sep=',', encoding=\"UTF-8\")\n",
    "\n",
    "df = df.drop(['Unnamed: 0'], axis=1)\n",
    "# Valores unicos\n",
    "#df.info()\n",
    "#df.duplicated().sum()\n",
    "#df.nunique()\n",
    "df.columns"
   ]
  },
  {
   "cell_type": "markdown",
   "metadata": {},
   "source": [
    "Verificación del dataset adicional que lo asigne como: F1 = Human Factor"
   ]
  },
  {
   "cell_type": "code",
   "execution_count": 3,
   "metadata": {},
   "outputs": [
    {
     "data": {
      "text/plain": [
       "Index(['Date', 'Operator', 'A/C Type', 'Location', 'Fatalities',\n",
       "       'Registration'],\n",
       "      dtype='object')"
      ]
     },
     "execution_count": 3,
     "metadata": {},
     "output_type": "execute_result"
    }
   ],
   "source": [
    "df1.isna().sum()\n",
    "df1.head()\n",
    "df1 = df1.drop(['Unnamed: 7'], axis=1)\n",
    "df1 = df1.drop(['Image'], axis=1)\n",
    "df1.sample(7)\n",
    "df1.columns"
   ]
  },
  {
   "cell_type": "code",
   "execution_count": 4,
   "metadata": {},
   "outputs": [
    {
     "data": {
      "text/html": [
       "<div>\n",
       "<style scoped>\n",
       "    .dataframe tbody tr th:only-of-type {\n",
       "        vertical-align: middle;\n",
       "    }\n",
       "\n",
       "    .dataframe tbody tr th {\n",
       "        vertical-align: top;\n",
       "    }\n",
       "\n",
       "    .dataframe thead th {\n",
       "        text-align: right;\n",
       "    }\n",
       "</style>\n",
       "<table border=\"1\" class=\"dataframe\">\n",
       "  <thead>\n",
       "    <tr style=\"text-align: right;\">\n",
       "      <th></th>\n",
       "      <th>fecha</th>\n",
       "      <th>HORA declarada</th>\n",
       "      <th>Ruta</th>\n",
       "      <th>OperadOR</th>\n",
       "      <th>flight_no</th>\n",
       "      <th>route</th>\n",
       "      <th>ac_type</th>\n",
       "      <th>registration</th>\n",
       "      <th>cn_ln</th>\n",
       "      <th>all_aboard</th>\n",
       "      <th>PASAJEROS A BORDO</th>\n",
       "      <th>crew_aboard</th>\n",
       "      <th>cantidad de fallecidos</th>\n",
       "      <th>passenger_fatalities</th>\n",
       "      <th>crew_fatalities</th>\n",
       "      <th>ground</th>\n",
       "      <th>summary</th>\n",
       "    </tr>\n",
       "  </thead>\n",
       "  <tbody>\n",
       "    <tr>\n",
       "      <th>4058</th>\n",
       "      <td>November 14, 1996</td>\n",
       "      <td>1302</td>\n",
       "      <td>Bolchaïa Pyssa, Russia</td>\n",
       "      <td>Komi Avia</td>\n",
       "      <td>?</td>\n",
       "      <td>Most Pyssa - Koslan</td>\n",
       "      <td>Antonov AN-2</td>\n",
       "      <td>RA-40309</td>\n",
       "      <td>1G221-39</td>\n",
       "      <td>15</td>\n",
       "      <td>13</td>\n",
       "      <td>2</td>\n",
       "      <td>14</td>\n",
       "      <td>13</td>\n",
       "      <td>1</td>\n",
       "      <td>0</td>\n",
       "      <td>Lost altitude and crashed while en route in po...</td>\n",
       "    </tr>\n",
       "    <tr>\n",
       "      <th>3543</th>\n",
       "      <td>March 10, 1989</td>\n",
       "      <td>1209</td>\n",
       "      <td>Dryden, Ontario, Canada</td>\n",
       "      <td>Air Ontario</td>\n",
       "      <td>1363</td>\n",
       "      <td>Dryden - Winnipeg</td>\n",
       "      <td>Fokker F-28 Fellowship 1000</td>\n",
       "      <td>C-FONF</td>\n",
       "      <td>11060</td>\n",
       "      <td>69</td>\n",
       "      <td>65</td>\n",
       "      <td>4</td>\n",
       "      <td>24</td>\n",
       "      <td>21</td>\n",
       "      <td>3</td>\n",
       "      <td>0</td>\n",
       "      <td>While flying from Thunder Bay, Ontario to Winn...</td>\n",
       "    </tr>\n",
       "    <tr>\n",
       "      <th>4237</th>\n",
       "      <td>November 12, 1999</td>\n",
       "      <td>1113</td>\n",
       "      <td>Near Pristina, Kosovo</td>\n",
       "      <td>Si Fly - U.N. charter</td>\n",
       "      <td>3275</td>\n",
       "      <td>Rome - Pristina</td>\n",
       "      <td>Aerospatiale Alenia ATR-42</td>\n",
       "      <td>F-OHFV</td>\n",
       "      <td>12</td>\n",
       "      <td>24</td>\n",
       "      <td>21</td>\n",
       "      <td>3</td>\n",
       "      <td>24</td>\n",
       "      <td>21</td>\n",
       "      <td>3</td>\n",
       "      <td>0</td>\n",
       "      <td>The plane was on a flight from Rome, Italy to ...</td>\n",
       "    </tr>\n",
       "    <tr>\n",
       "      <th>3177</th>\n",
       "      <td>April 13, 1982</td>\n",
       "      <td>1440</td>\n",
       "      <td>Near Erzurum, Turkey</td>\n",
       "      <td>Military - U.S. Air Force</td>\n",
       "      <td>?</td>\n",
       "      <td>Erzurum - Incirlik</td>\n",
       "      <td>Lockheed C-130H</td>\n",
       "      <td>74-1678</td>\n",
       "      <td>4645</td>\n",
       "      <td>27</td>\n",
       "      <td>19</td>\n",
       "      <td>8</td>\n",
       "      <td>27</td>\n",
       "      <td>19</td>\n",
       "      <td>8</td>\n",
       "      <td>0</td>\n",
       "      <td>Failure of the No.4 engine followed by separat...</td>\n",
       "    </tr>\n",
       "    <tr>\n",
       "      <th>279</th>\n",
       "      <td>February 27, 1932</td>\n",
       "      <td>?</td>\n",
       "      <td>Off Setiba, Brazil</td>\n",
       "      <td>Aeropostale</td>\n",
       "      <td>?</td>\n",
       "      <td>?</td>\n",
       "      <td>Latecoere 28</td>\n",
       "      <td>F-AJOX</td>\n",
       "      <td>917</td>\n",
       "      <td>3</td>\n",
       "      <td>0</td>\n",
       "      <td>3</td>\n",
       "      <td>3</td>\n",
       "      <td>0</td>\n",
       "      <td>3</td>\n",
       "      <td>0</td>\n",
       "      <td>Crashed into the ocean after flying into a thu...</td>\n",
       "    </tr>\n",
       "  </tbody>\n",
       "</table>\n",
       "</div>"
      ],
      "text/plain": [
       "                  fecha HORA declarada                     Ruta  \\\n",
       "4058  November 14, 1996           1302   Bolchaïa Pyssa, Russia   \n",
       "3543     March 10, 1989           1209  Dryden, Ontario, Canada   \n",
       "4237  November 12, 1999           1113    Near Pristina, Kosovo   \n",
       "3177     April 13, 1982           1440     Near Erzurum, Turkey   \n",
       "279   February 27, 1932              ?       Off Setiba, Brazil   \n",
       "\n",
       "                       OperadOR flight_no                route  \\\n",
       "4058                  Komi Avia         ?  Most Pyssa - Koslan   \n",
       "3543                Air Ontario      1363    Dryden - Winnipeg   \n",
       "4237      Si Fly - U.N. charter      3275      Rome - Pristina   \n",
       "3177  Military - U.S. Air Force         ?   Erzurum - Incirlik   \n",
       "279                 Aeropostale         ?                    ?   \n",
       "\n",
       "                          ac_type registration     cn_ln all_aboard  \\\n",
       "4058                 Antonov AN-2     RA-40309  1G221-39         15   \n",
       "3543  Fokker F-28 Fellowship 1000       C-FONF     11060         69   \n",
       "4237   Aerospatiale Alenia ATR-42       F-OHFV        12         24   \n",
       "3177              Lockheed C-130H      74-1678      4645         27   \n",
       "279                  Latecoere 28       F-AJOX       917          3   \n",
       "\n",
       "     PASAJEROS A BORDO crew_aboard cantidad de fallecidos  \\\n",
       "4058                13           2                     14   \n",
       "3543                65           4                     24   \n",
       "4237                21           3                     24   \n",
       "3177                19           8                     27   \n",
       "279                  0           3                      3   \n",
       "\n",
       "     passenger_fatalities crew_fatalities ground  \\\n",
       "4058                   13               1      0   \n",
       "3543                   21               3      0   \n",
       "4237                   21               3      0   \n",
       "3177                   19               8      0   \n",
       "279                     0               3      0   \n",
       "\n",
       "                                                summary  \n",
       "4058  Lost altitude and crashed while en route in po...  \n",
       "3543  While flying from Thunder Bay, Ontario to Winn...  \n",
       "4237  The plane was on a flight from Rome, Italy to ...  \n",
       "3177  Failure of the No.4 engine followed by separat...  \n",
       "279   Crashed into the ocean after flying into a thu...  "
      ]
     },
     "execution_count": 4,
     "metadata": {},
     "output_type": "execute_result"
    }
   ],
   "source": [
    "df.sample(5)"
   ]
  },
  {
   "cell_type": "markdown",
   "metadata": {},
   "source": [
    "Estoy transformándolo a su forma correcta a la columna Fecha, utilizando un diccionario de datos, también voy cambiar al tipo de dato a datetime64[ns]"
   ]
  },
  {
   "cell_type": "code",
   "execution_count": 5,
   "metadata": {},
   "outputs": [],
   "source": [
    "#Inputación de datos con replace\n",
    "df['fecha'] = df['fecha'].apply(lambda x: x.replace(',',''))\n",
    "df['fecha'] = df['fecha'].apply(lambda x: x.replace(' ','-'))"
   ]
  },
  {
   "cell_type": "code",
   "execution_count": 6,
   "metadata": {},
   "outputs": [],
   "source": [
    "#Aquí voy creando un diccionario para cambiar los meses a numérico\n",
    "def normalize_fecha(string):\n",
    "    m = {\n",
    "        'January': \"01\",\n",
    "        'February': \"02\",\n",
    "        'March': \"03\",\n",
    "        'April': \"04\",\n",
    "        'May': \"05\",\n",
    "        'June': \"06\",\n",
    "        'July': \"07\",\n",
    "        'August': \"08\",\n",
    "        'September': \"09\",\n",
    "        'October': \"10\",\n",
    "        'November': \"11\",\n",
    "        'December': \"12\"\n",
    "        }\n",
    "\n",
    "    fecha = string.split(\"-\")\n",
    "    mes =  fecha[0]\n",
    "    dia =  fecha[1]\n",
    "    anio = fecha[2]\n",
    "\n",
    "    try:\n",
    "        out = str(m[mes])\n",
    "        return anio + \"-\" +  out + \"-\" + dia\n",
    "    except:\n",
    "        raise ValueError('No es un mes')"
   ]
  },
  {
   "cell_type": "code",
   "execution_count": 7,
   "metadata": {},
   "outputs": [],
   "source": [
    "df['fecha'] = df['fecha'].apply(lambda x: normalize_fecha(x))\n",
    "df['fecha'] = pd.to_datetime(df['fecha'])"
   ]
  },
  {
   "cell_type": "markdown",
   "metadata": {},
   "source": [
    "Estoy transformándolo a su forma correcta a la columna Date del dataset adicional, utilizando un diccionario de datos, también voy cambiar al tipo de dato a datetime64[ns]"
   ]
  },
  {
   "cell_type": "code",
   "execution_count": 8,
   "metadata": {},
   "outputs": [
    {
     "data": {
      "text/plain": [
       "9914    Feb-12-1934\n",
       "5158    Dec-29-1977\n",
       "9254    Feb-26-1941\n",
       "475     Mar-27-2014\n",
       "3866    Dec-24-1986\n",
       "Name: Date, dtype: object"
      ]
     },
     "execution_count": 8,
     "metadata": {},
     "output_type": "execute_result"
    }
   ],
   "source": [
    "#Inputación de datos con replace\n",
    "df1['Date'] = df1['Date'].apply(lambda x: x.replace(',',''))\n",
    "df1['Date'] = df1['Date'].apply(lambda x: x.replace(' ','-'))\n",
    "df1['Date'].sample(5)"
   ]
  },
  {
   "cell_type": "code",
   "execution_count": 9,
   "metadata": {},
   "outputs": [],
   "source": [
    "#Aquí voy creando un diccionario para cambiar los meses a numérico\n",
    "def normalize_Date(string):\n",
    "    m = {\n",
    "        'Jan': \"01\",\n",
    "        'Feb': \"02\",\n",
    "        'Mar': \"03\",\n",
    "        'Apr': \"04\",\n",
    "        'May': \"05\",\n",
    "        'Jun': \"06\",\n",
    "        'Jul': \"07\",\n",
    "        'Aug': \"08\",\n",
    "        'Sep': \"09\",\n",
    "        'Oct': \"10\",\n",
    "        'Nov': \"11\",\n",
    "        'Dec': \"12\"\n",
    "        }\n",
    "\n",
    "    fecha = string.split(\"-\")\n",
    "    mes =  fecha[0]\n",
    "    dia =  fecha[1]\n",
    "    anio = fecha[2]\n",
    "\n",
    "    try:\n",
    "        out = str(m[mes])\n",
    "        return anio + \"-\" +  out + \"-\" + dia\n",
    "    except:\n",
    "        raise ValueError('No es un mes')"
   ]
  },
  {
   "cell_type": "code",
   "execution_count": 10,
   "metadata": {},
   "outputs": [],
   "source": [
    "df1['Date'] = df1['Date'].apply(lambda x: normalize_Date(x))\n",
    "df1['Date'] = pd.to_datetime(df1['Date'])"
   ]
  },
  {
   "cell_type": "markdown",
   "metadata": {},
   "source": [
    "Primero estoy normalizando la columna de \"HORA declarada\" a \"hora_declarada\", \n",
    "luego voy Transformando los valores de la nueva columna hora_declarada a\n",
    "sus valores correctos"
   ]
  },
  {
   "cell_type": "code",
   "execution_count": 11,
   "metadata": {},
   "outputs": [],
   "source": [
    "df['hora_declarada'] = df['HORA declarada']\n",
    "df = df.drop(['HORA declarada'], axis=1)"
   ]
  },
  {
   "cell_type": "code",
   "execution_count": 12,
   "metadata": {},
   "outputs": [],
   "source": [
    "def normalize_hour(value):\n",
    "    value = value.replace('?', '00:00')\n",
    "    value = value.replace('c', '')\n",
    "    value = value.replace('Z', '')\n",
    "    value = value.replace('c:', '')\n",
    "    value = value.replace(' ', '')\n",
    "    value = value.replace(':', '')\n",
    "    value = value.replace(';', '')\n",
    "    \n",
    "    if ':' not in value:\n",
    "        return value\n",
    "\n",
    "    elif value[0] == ':':\n",
    "        return f'00{value}'\n",
    "\n",
    "    elif value[-1] == ':':\n",
    "        return f'{value}00'\n",
    "\n",
    "    elif len[value] == 4:\n",
    "        return '0' + value\n",
    "    else:\n",
    "        return value\n",
    "df['hora_declarada'] = df['hora_declarada'].apply(lambda x: normalize_hour(x))"
   ]
  },
  {
   "cell_type": "code",
   "execution_count": 13,
   "metadata": {},
   "outputs": [],
   "source": [
    "def normalize_hour(value):\n",
    "    if ':' not in value:\n",
    "        return f'{value[:2]}:{value[-2:]}'\n",
    "    else:\n",
    "        return value\n",
    "df['hora_declarada'] = df['hora_declarada'].apply(lambda x: normalize_hour(x))\n",
    "#df['hora_declarada'] "
   ]
  },
  {
   "cell_type": "code",
   "execution_count": 14,
   "metadata": {},
   "outputs": [],
   "source": [
    "#transformando algunos valores atípicos el cual no suceden en la realidad\n",
    "df['hora_declarada'] = df['hora_declarada'].replace('91:15','19:15') \n",
    "df['hora_declarada'] = df['hora_declarada'].replace('90:00','09:00') \n",
    "df['hora_declarada'] = df['hora_declarada'].replace('24:45','23:45') \n",
    "df['hora_declarada'] = df['hora_declarada'].replace('5008','05:08') "
   ]
  },
  {
   "cell_type": "code",
   "execution_count": 15,
   "metadata": {},
   "outputs": [
    {
     "data": {
      "text/plain": [
       "\"df['hora_declarada'] = pd.to_datetime(df['hora_declarada'], format='%H:%M') - pd.to_datetime(df['hora_declarada'], format='%H:%M').dt.normalize()\\nprint(df['hora_declarada'])\""
      ]
     },
     "execution_count": 15,
     "metadata": {},
     "output_type": "execute_result"
    }
   ],
   "source": [
    "'''df['hora_declarada'] = pd.to_datetime(df['hora_declarada'], format='%H:%M') - pd.to_datetime(df['hora_declarada'], format='%H:%M').dt.normalize()\n",
    "print(df['hora_declarada'])'''"
   ]
  },
  {
   "cell_type": "code",
   "execution_count": 16,
   "metadata": {},
   "outputs": [
    {
     "data": {
      "text/plain": [
       "5    5008\n",
       "Name: aux_declarada, dtype: int64"
      ]
     },
     "execution_count": 16,
     "metadata": {},
     "output_type": "execute_result"
    }
   ],
   "source": [
    "#para darme cuenta de cuantos hay de cada uno\n",
    "df['aux_declarada'] = df['hora_declarada'].apply(lambda x: len(x))\n",
    "df['aux_declarada'].value_counts() # 02:09Z, c 02:00, c 12:00, 03:50Z, :18"
   ]
  },
  {
   "cell_type": "markdown",
   "metadata": {},
   "source": [
    "Voy normalizando la columna \"Date\" del dataset adicional de \"Date\" a \"date_hf\", para que pueda identificar mejor\n",
    "luego voy Transformando los valores de la nueva columna date a\n",
    "sus valores correctos"
   ]
  },
  {
   "cell_type": "code",
   "execution_count": 17,
   "metadata": {},
   "outputs": [],
   "source": [
    "df1['date_hf'] = df1['Date']\n",
    "df1 = df1.drop(['Date'], axis=1)"
   ]
  },
  {
   "cell_type": "markdown",
   "metadata": {},
   "source": [
    "Normalizo el dataset adcional la columna  'Operator' a 'operator_hf'"
   ]
  },
  {
   "cell_type": "code",
   "execution_count": 18,
   "metadata": {},
   "outputs": [],
   "source": [
    "df1['operator_hf'] = df1['Operator']\n",
    "df1 = df1.drop(['Operator'], axis=1)"
   ]
  },
  {
   "cell_type": "code",
   "execution_count": 19,
   "metadata": {},
   "outputs": [],
   "source": [
    "#pd.unique(df1['date'])\n",
    "#pd.unique(df1['operator_hf'])\n",
    "#pd.unique(df1['A/C Type'])\n",
    "#pd.unique(df1['Location'])\n",
    "#pd.unique(df1['Fatalities'])\n",
    "#pd.unique(df1['Registration'])"
   ]
  },
  {
   "cell_type": "markdown",
   "metadata": {},
   "source": [
    "transformando datos del dataset adicional en las siguientes columnas como: all_borad y entre otros, ya que posee muchos \"-\" y cambiaré por el que más se repita de la columnas"
   ]
  },
  {
   "cell_type": "code",
   "execution_count": 20,
   "metadata": {},
   "outputs": [],
   "source": [
    "#transformando algunos valores atípicos el cual no suseden en la realidad\n",
    "\n",
    "#el que mayor se repite en este caso es '3'\n",
    "df1['operator_hf'] = df1['operator_hf'].fillna(df1['operator_hf'].value_counts().index[0]) "
   ]
  },
  {
   "cell_type": "code",
   "execution_count": 21,
   "metadata": {},
   "outputs": [
    {
     "data": {
      "text/plain": [
       "'Wyman Pilot Services'"
      ]
     },
     "execution_count": 21,
     "metadata": {},
     "output_type": "execute_result"
    }
   ],
   "source": [
    "df1['operator_hf'].value_counts().index[0]"
   ]
  },
  {
   "cell_type": "code",
   "execution_count": 22,
   "metadata": {},
   "outputs": [],
   "source": [
    "#normalicé la columna A/C Type\n",
    "df1['ac_type_hf'] = df1['A/C Type']\n",
    "df1 = df1.drop(['A/C Type'], axis=1)"
   ]
  },
  {
   "cell_type": "code",
   "execution_count": 23,
   "metadata": {},
   "outputs": [],
   "source": [
    "#normalicé la columna Location\n",
    "df1['location_hf'] = df1['Location']\n",
    "df1 = df1.drop(['Location'], axis=1)"
   ]
  },
  {
   "cell_type": "code",
   "execution_count": 24,
   "metadata": {},
   "outputs": [],
   "source": [
    "#el que mayor se repite en este caso es '3'\n",
    "df1['location_hf'] = df1['location_hf'].fillna(df1['location_hf'].value_counts().index[0]) "
   ]
  },
  {
   "cell_type": "code",
   "execution_count": 25,
   "metadata": {},
   "outputs": [],
   "source": [
    "#normalicé la columna Fatalities\n",
    "df1['fatalities_hf'] = df1['Fatalities']\n",
    "df1 = df1.drop(['Fatalities'], axis=1)"
   ]
  },
  {
   "cell_type": "code",
   "execution_count": 26,
   "metadata": {},
   "outputs": [],
   "source": [
    "#normalicé la columna Registration\n",
    "df1['registration_hf'] = df1['Registration']\n",
    "df1 = df1.drop(['Registration'], axis=1)"
   ]
  },
  {
   "cell_type": "code",
   "execution_count": 27,
   "metadata": {},
   "outputs": [],
   "source": [
    "#el que mayor se repite en este caso es '3'\n",
    "df1['registration_hf'] = df1['registration_hf'].fillna(df1['registration_hf'].value_counts().index[1]) "
   ]
  },
  {
   "cell_type": "code",
   "execution_count": 28,
   "metadata": {},
   "outputs": [],
   "source": [
    "df1['registration_hf'] = df1['registration_hf'].replace('-',df1['registration_hf'].value_counts().index[1]) "
   ]
  },
  {
   "cell_type": "markdown",
   "metadata": {},
   "source": [
    "Al fin ya quedó bien el dataset adicional"
   ]
  },
  {
   "cell_type": "code",
   "execution_count": 29,
   "metadata": {},
   "outputs": [
    {
     "data": {
      "text/html": [
       "<div>\n",
       "<style scoped>\n",
       "    .dataframe tbody tr th:only-of-type {\n",
       "        vertical-align: middle;\n",
       "    }\n",
       "\n",
       "    .dataframe tbody tr th {\n",
       "        vertical-align: top;\n",
       "    }\n",
       "\n",
       "    .dataframe thead th {\n",
       "        text-align: right;\n",
       "    }\n",
       "</style>\n",
       "<table border=\"1\" class=\"dataframe\">\n",
       "  <thead>\n",
       "    <tr style=\"text-align: right;\">\n",
       "      <th></th>\n",
       "      <th>date_hf</th>\n",
       "      <th>operator_hf</th>\n",
       "      <th>ac_type_hf</th>\n",
       "      <th>location_hf</th>\n",
       "      <th>fatalities_hf</th>\n",
       "      <th>registration_hf</th>\n",
       "    </tr>\n",
       "  </thead>\n",
       "  <tbody>\n",
       "    <tr>\n",
       "      <th>0</th>\n",
       "      <td>2022-10-27</td>\n",
       "      <td>Wyman Pilot Services</td>\n",
       "      <td>Canadair CL-415</td>\n",
       "      <td>Linguaglossa, Sicily</td>\n",
       "      <td>2</td>\n",
       "      <td>I-DPCN</td>\n",
       "    </tr>\n",
       "    <tr>\n",
       "      <th>1</th>\n",
       "      <td>2022-08-18</td>\n",
       "      <td>ALM Holding</td>\n",
       "      <td>Cessna 340</td>\n",
       "      <td>Watsonville, California</td>\n",
       "      <td>2</td>\n",
       "      <td>N740WJ</td>\n",
       "    </tr>\n",
       "    <tr>\n",
       "      <th>2</th>\n",
       "      <td>2022-08-14</td>\n",
       "      <td>Wyman Pilot Services</td>\n",
       "      <td>Piper PA-31-310 Navajo</td>\n",
       "      <td>La Libertad, Campeche</td>\n",
       "      <td>1</td>\n",
       "      <td>I-DPCN</td>\n",
       "    </tr>\n",
       "    <tr>\n",
       "      <th>3</th>\n",
       "      <td>2022-07-17</td>\n",
       "      <td>Gold Aero Aviation</td>\n",
       "      <td>Piper PA-46 (Malibu/Meridian/Mirage/Matrix/M-C...</td>\n",
       "      <td>North Las Vegas, Nevada</td>\n",
       "      <td>2</td>\n",
       "      <td>N97CX</td>\n",
       "    </tr>\n",
       "    <tr>\n",
       "      <th>4</th>\n",
       "      <td>2022-07-15</td>\n",
       "      <td>Wyman Pilot Services</td>\n",
       "      <td>PZL-Mielec AN-2</td>\n",
       "      <td>Prochnookopskaya, Krasnodar Krai</td>\n",
       "      <td>2</td>\n",
       "      <td>RA-02240</td>\n",
       "    </tr>\n",
       "  </tbody>\n",
       "</table>\n",
       "</div>"
      ],
      "text/plain": [
       "     date_hf           operator_hf  \\\n",
       "0 2022-10-27  Wyman Pilot Services   \n",
       "1 2022-08-18           ALM Holding   \n",
       "2 2022-08-14  Wyman Pilot Services   \n",
       "3 2022-07-17    Gold Aero Aviation   \n",
       "4 2022-07-15  Wyman Pilot Services   \n",
       "\n",
       "                                          ac_type_hf  \\\n",
       "0                                    Canadair CL-415   \n",
       "1                                         Cessna 340   \n",
       "2                             Piper PA-31-310 Navajo   \n",
       "3  Piper PA-46 (Malibu/Meridian/Mirage/Matrix/M-C...   \n",
       "4                                    PZL-Mielec AN-2   \n",
       "\n",
       "                        location_hf  fatalities_hf registration_hf  \n",
       "0              Linguaglossa, Sicily              2          I-DPCN  \n",
       "1           Watsonville, California              2          N740WJ  \n",
       "2             La Libertad, Campeche              1          I-DPCN  \n",
       "3           North Las Vegas, Nevada              2           N97CX  \n",
       "4  Prochnookopskaya, Krasnodar Krai              2        RA-02240  "
      ]
     },
     "execution_count": 29,
     "metadata": {},
     "output_type": "execute_result"
    }
   ],
   "source": [
    "df1.head()"
   ]
  },
  {
   "cell_type": "markdown",
   "metadata": {},
   "source": [
    "Normalización de la columna Ruta a ruta_del_accidente"
   ]
  },
  {
   "cell_type": "code",
   "execution_count": 30,
   "metadata": {},
   "outputs": [],
   "source": [
    "df['ruta_del_accidente'] = df['Ruta']\n",
    "df = df.drop(['Ruta'], axis=1)"
   ]
  },
  {
   "cell_type": "markdown",
   "metadata": {},
   "source": [
    "Normalizo la columna  'OperadOR' a operador"
   ]
  },
  {
   "cell_type": "code",
   "execution_count": 31,
   "metadata": {},
   "outputs": [],
   "source": [
    "df['operador'] = df['OperadOR']\n",
    "df = df.drop(['OperadOR'], axis=1)"
   ]
  },
  {
   "cell_type": "markdown",
   "metadata": {},
   "source": [
    "voy a reemplazar \"?\" por nan, para que asi me facilite los demas pasos y pueda llenar el modulo de fillna  con la ayuda de un for"
   ]
  },
  {
   "cell_type": "code",
   "execution_count": 32,
   "metadata": {},
   "outputs": [],
   "source": [
    "df.replace( '?', np.nan, inplace=True)"
   ]
  },
  {
   "cell_type": "code",
   "execution_count": 33,
   "metadata": {},
   "outputs": [
    {
     "data": {
      "text/html": [
       "<div>\n",
       "<style scoped>\n",
       "    .dataframe tbody tr th:only-of-type {\n",
       "        vertical-align: middle;\n",
       "    }\n",
       "\n",
       "    .dataframe tbody tr th {\n",
       "        vertical-align: top;\n",
       "    }\n",
       "\n",
       "    .dataframe thead th {\n",
       "        text-align: right;\n",
       "    }\n",
       "</style>\n",
       "<table border=\"1\" class=\"dataframe\">\n",
       "  <thead>\n",
       "    <tr style=\"text-align: right;\">\n",
       "      <th></th>\n",
       "      <th>fecha</th>\n",
       "      <th>flight_no</th>\n",
       "      <th>route</th>\n",
       "      <th>ac_type</th>\n",
       "      <th>registration</th>\n",
       "      <th>cn_ln</th>\n",
       "      <th>all_aboard</th>\n",
       "      <th>PASAJEROS A BORDO</th>\n",
       "      <th>crew_aboard</th>\n",
       "      <th>cantidad de fallecidos</th>\n",
       "      <th>passenger_fatalities</th>\n",
       "      <th>crew_fatalities</th>\n",
       "      <th>ground</th>\n",
       "      <th>summary</th>\n",
       "      <th>hora_declarada</th>\n",
       "      <th>aux_declarada</th>\n",
       "      <th>ruta_del_accidente</th>\n",
       "      <th>operador</th>\n",
       "    </tr>\n",
       "  </thead>\n",
       "  <tbody>\n",
       "    <tr>\n",
       "      <th>0</th>\n",
       "      <td>1908-09-17</td>\n",
       "      <td>NaN</td>\n",
       "      <td>Demonstration</td>\n",
       "      <td>Wright Flyer III</td>\n",
       "      <td>NaN</td>\n",
       "      <td>1</td>\n",
       "      <td>2</td>\n",
       "      <td>1</td>\n",
       "      <td>1</td>\n",
       "      <td>1</td>\n",
       "      <td>1</td>\n",
       "      <td>0</td>\n",
       "      <td>0</td>\n",
       "      <td>During a demonstration flight, a U.S. Army fly...</td>\n",
       "      <td>17:18</td>\n",
       "      <td>5</td>\n",
       "      <td>Fort Myer, Virginia</td>\n",
       "      <td>Military - U.S. Army</td>\n",
       "    </tr>\n",
       "    <tr>\n",
       "      <th>1</th>\n",
       "      <td>1909-09-07</td>\n",
       "      <td>NaN</td>\n",
       "      <td>Air show</td>\n",
       "      <td>Wright Byplane</td>\n",
       "      <td>SC1</td>\n",
       "      <td>NaN</td>\n",
       "      <td>1</td>\n",
       "      <td>0</td>\n",
       "      <td>1</td>\n",
       "      <td>1</td>\n",
       "      <td>0</td>\n",
       "      <td>0</td>\n",
       "      <td>0</td>\n",
       "      <td>Eugene Lefebvre was the first pilot to ever be...</td>\n",
       "      <td>00:00</td>\n",
       "      <td>5</td>\n",
       "      <td>Juvisy-sur-Orge, France</td>\n",
       "      <td>NaN</td>\n",
       "    </tr>\n",
       "    <tr>\n",
       "      <th>2</th>\n",
       "      <td>1912-07-12</td>\n",
       "      <td>NaN</td>\n",
       "      <td>Test flight</td>\n",
       "      <td>Dirigible</td>\n",
       "      <td>NaN</td>\n",
       "      <td>NaN</td>\n",
       "      <td>5</td>\n",
       "      <td>0</td>\n",
       "      <td>5</td>\n",
       "      <td>5</td>\n",
       "      <td>0</td>\n",
       "      <td>5</td>\n",
       "      <td>0</td>\n",
       "      <td>First U.S. dirigible Akron exploded just offsh...</td>\n",
       "      <td>06:30</td>\n",
       "      <td>5</td>\n",
       "      <td>Atlantic City, New Jersey</td>\n",
       "      <td>Military - U.S. Navy</td>\n",
       "    </tr>\n",
       "    <tr>\n",
       "      <th>3</th>\n",
       "      <td>1913-08-06</td>\n",
       "      <td>NaN</td>\n",
       "      <td>NaN</td>\n",
       "      <td>Curtiss seaplane</td>\n",
       "      <td>NaN</td>\n",
       "      <td>NaN</td>\n",
       "      <td>1</td>\n",
       "      <td>0</td>\n",
       "      <td>1</td>\n",
       "      <td>1</td>\n",
       "      <td>0</td>\n",
       "      <td>1</td>\n",
       "      <td>0</td>\n",
       "      <td>The first fatal airplane accident in Canada oc...</td>\n",
       "      <td>00:00</td>\n",
       "      <td>5</td>\n",
       "      <td>Victoria, British Columbia, Canada</td>\n",
       "      <td>Private</td>\n",
       "    </tr>\n",
       "    <tr>\n",
       "      <th>4</th>\n",
       "      <td>1913-09-09</td>\n",
       "      <td>NaN</td>\n",
       "      <td>NaN</td>\n",
       "      <td>Zeppelin L-1 (airship)</td>\n",
       "      <td>NaN</td>\n",
       "      <td>NaN</td>\n",
       "      <td>20</td>\n",
       "      <td>NaN</td>\n",
       "      <td>NaN</td>\n",
       "      <td>14</td>\n",
       "      <td>NaN</td>\n",
       "      <td>NaN</td>\n",
       "      <td>0</td>\n",
       "      <td>The airship flew into a thunderstorm and encou...</td>\n",
       "      <td>18:30</td>\n",
       "      <td>5</td>\n",
       "      <td>Over the North Sea</td>\n",
       "      <td>Military - German Navy</td>\n",
       "    </tr>\n",
       "  </tbody>\n",
       "</table>\n",
       "</div>"
      ],
      "text/plain": [
       "       fecha flight_no          route                 ac_type registration  \\\n",
       "0 1908-09-17       NaN  Demonstration        Wright Flyer III          NaN   \n",
       "1 1909-09-07       NaN       Air show          Wright Byplane          SC1   \n",
       "2 1912-07-12       NaN    Test flight               Dirigible          NaN   \n",
       "3 1913-08-06       NaN            NaN        Curtiss seaplane          NaN   \n",
       "4 1913-09-09       NaN            NaN  Zeppelin L-1 (airship)          NaN   \n",
       "\n",
       "  cn_ln all_aboard PASAJEROS A BORDO crew_aboard cantidad de fallecidos  \\\n",
       "0     1          2                 1           1                      1   \n",
       "1   NaN          1                 0           1                      1   \n",
       "2   NaN          5                 0           5                      5   \n",
       "3   NaN          1                 0           1                      1   \n",
       "4   NaN         20               NaN         NaN                     14   \n",
       "\n",
       "  passenger_fatalities crew_fatalities ground  \\\n",
       "0                    1               0      0   \n",
       "1                    0               0      0   \n",
       "2                    0               5      0   \n",
       "3                    0               1      0   \n",
       "4                  NaN             NaN      0   \n",
       "\n",
       "                                             summary hora_declarada  \\\n",
       "0  During a demonstration flight, a U.S. Army fly...          17:18   \n",
       "1  Eugene Lefebvre was the first pilot to ever be...          00:00   \n",
       "2  First U.S. dirigible Akron exploded just offsh...          06:30   \n",
       "3  The first fatal airplane accident in Canada oc...          00:00   \n",
       "4  The airship flew into a thunderstorm and encou...          18:30   \n",
       "\n",
       "   aux_declarada                  ruta_del_accidente                operador  \n",
       "0              5                 Fort Myer, Virginia    Military - U.S. Army  \n",
       "1              5             Juvisy-sur-Orge, France                     NaN  \n",
       "2              5           Atlantic City, New Jersey    Military - U.S. Navy  \n",
       "3              5  Victoria, British Columbia, Canada                 Private  \n",
       "4              5                  Over the North Sea  Military - German Navy  "
      ]
     },
     "execution_count": 33,
     "metadata": {},
     "output_type": "execute_result"
    }
   ],
   "source": [
    "df.head(5)"
   ]
  },
  {
   "cell_type": "code",
   "execution_count": 34,
   "metadata": {},
   "outputs": [
    {
     "data": {
      "text/plain": [
       "fecha                        0\n",
       "flight_no                 3682\n",
       "route                      762\n",
       "ac_type                     13\n",
       "registration               272\n",
       "cn_ln                      667\n",
       "all_aboard                  17\n",
       "PASAJEROS A BORDO          221\n",
       "crew_aboard                219\n",
       "cantidad de fallecidos       8\n",
       "passenger_fatalities       235\n",
       "crew_fatalities            235\n",
       "ground                      44\n",
       "summary                     59\n",
       "hora_declarada               0\n",
       "aux_declarada                0\n",
       "ruta_del_accidente           5\n",
       "operador                    10\n",
       "dtype: int64"
      ]
     },
     "execution_count": 34,
     "metadata": {},
     "output_type": "execute_result"
    }
   ],
   "source": [
    "df.isna().sum()"
   ]
  },
  {
   "cell_type": "markdown",
   "metadata": {},
   "source": [
    "Voy a llenar los valores nulos a las columnas que restan por el valor que más se repite, con la ayuda de un for que va a recorrer cada columna de cada tipo de formato \"object\" por ahora y asi ahorrar comandos de código, en realidad todos estan de tipo object asi que nos ahorramos tiempo"
   ]
  },
  {
   "cell_type": "code",
   "execution_count": 35,
   "metadata": {},
   "outputs": [],
   "source": [
    "#VALORES CATEGÓRICOS: INPUT EN DATOS NULOS\n",
    "# Iteramos sobre cada columna de los dataframes\n",
    "for col in df.columns:\n",
    "    # Revisamos si la columna son categóricas (object)\n",
    "    if df[col].dtypes == 'object':\n",
    "        # Cambiamos los faltantes con los valor más frecuente\n",
    "        df = df.fillna(df[col].value_counts().index[0])\n"
   ]
  },
  {
   "cell_type": "markdown",
   "metadata": {},
   "source": [
    "visualizamos con el módulo isna() que todo está sin datos nulos"
   ]
  },
  {
   "cell_type": "code",
   "execution_count": 36,
   "metadata": {},
   "outputs": [],
   "source": [
    "#df.isna().sum()"
   ]
  },
  {
   "cell_type": "markdown",
   "metadata": {},
   "source": [
    "Toca normalizar las demás columnas que aun faltan"
   ]
  },
  {
   "cell_type": "code",
   "execution_count": 37,
   "metadata": {},
   "outputs": [],
   "source": [
    "df['pasajeros_a_bordo'] = df['PASAJEROS A BORDO']\n",
    "df = df.drop(['PASAJEROS A BORDO'], axis=1)\n",
    "#normalizo la columna cantidad de fallecidos\n",
    "df['cantidad_de_fallecidos'] = df['cantidad de fallecidos']\n",
    "df = df.drop(['cantidad de fallecidos'], axis=1)\n",
    "#normalizo la columna de route\n",
    "df['ruta_completa'] = df['route']\n",
    "df = df.drop(['route'], axis=1)"
   ]
  },
  {
   "cell_type": "markdown",
   "metadata": {},
   "source": [
    "Aquí voy haciendo unique para tener una mejor visualización de de los registros de cada columna"
   ]
  },
  {
   "cell_type": "code",
   "execution_count": 38,
   "metadata": {},
   "outputs": [],
   "source": [
    "#pd.unique(df['fecha']) # ok Date of accident,  in the format - January 01, 2001\n",
    "#pd.unique(df['hora_declarada']) # casi ok Hora local, en 24 h. \n",
    "#pd.unique(df['ruta_del_accidente']) # ok: ruta lugar del accidente, 'Fort Myer, Virginia', 'Juvisy-sur-Orge, France'\n",
    "#pd.unique(df['ac_type']) # Aircraft type = tipo de aeronave\n",
    "#pd.unique(df['operador']) # ? en el index 67 y 684 'Military - U.S. Army', '?', 'Military - U.S. Navy','South Sudan Supreme Airlines',\n",
    "#pd.unique(df['flight_no'])# 718 / 2, 229, CAM5763, V-1104, 526A, LZ 129, Z92100\n",
    "#'Ruta' es el lugar del accidente, 'route' dice de dónde a dónde iba el vuelo\n",
    "#pd.unique(df['ruta_completa'])# Ruta completa o parcial del vuelo antes del accidente, Demostration, la columna habla de aeroupuertos, Air show', 'Test flight'\n",
    "#pd.unique(df['registration'])# eliminar ? casi = q flight_no '4610', '5125', 'RA-26085'\n",
    "#pd.unique(df['cn_ln']) # numero de fuselaje cn: contruccion number, ln, line fuselaje number, cn 45304 ln 1, cn 29171 / ln 553 reemplazar por algo a ? '1', '?', '77', ..., 'E-325', '5125', '12310'\n",
    "#pd.unique(df['all_aboard']) # '1', '?', '77', ..., 'E-325', '5125', '12310'\n",
    "#pd.unique(df['pasajeros_a_bordo']) # '1', '0', '?', '12', '6', '4', '5', '2', '3', TODO ENTERO\n",
    "#pd.unique(df['crew_aboard']) # '1', '5', '?', '41', '19', '2', '3', TODO ENTERO\n",
    "#pd.unique(df['cantidad_de_fallecidos']) # ok '1', '5', '14', '28', '17', '19', '20' TODO ENTERO\n",
    "#pd.unique(df['passenger_fatalities']) #Muerte de pasajeros '1', '0', '?', '2', '12', '4', '5', '3' TODO ENTERO\n",
    "#pd.unique(df['crew_fatalities']) #fatalidades_de_la_tripulación'0', '5', '1', '?', '17', TODO ENTERO\n",
    "#pd.unique(df['ground'])#tierra, suelo, gente q estaba en suelo cuando impacto el avion, '0', '10', '1', '5', '?' TODO ENTERO\n",
    "#pd.unique(df['summary'])# ok resumen\n",
    "# usar boxplot para los outliers"
   ]
  },
  {
   "cell_type": "code",
   "execution_count": 39,
   "metadata": {},
   "outputs": [
    {
     "data": {
      "text/plain": [
       "Index(['fecha', 'flight_no', 'ac_type', 'registration', 'cn_ln', 'all_aboard',\n",
       "       'crew_aboard', 'passenger_fatalities', 'crew_fatalities', 'ground',\n",
       "       'summary', 'hora_declarada', 'aux_declarada', 'ruta_del_accidente',\n",
       "       'operador', 'pasajeros_a_bordo', 'cantidad_de_fallecidos',\n",
       "       'ruta_completa'],\n",
       "      dtype='object')"
      ]
     },
     "execution_count": 39,
     "metadata": {},
     "output_type": "execute_result"
    }
   ],
   "source": [
    "df.columns"
   ]
  },
  {
   "cell_type": "markdown",
   "metadata": {},
   "source": [
    "transformando datos en las siguientes columnas del dataset proporcionado como: all_borad y entre otros, ya que posee muchos \"-\" y cambiaré por el que más se repita de la columna"
   ]
  },
  {
   "cell_type": "code",
   "execution_count": 40,
   "metadata": {},
   "outputs": [],
   "source": [
    "#transformando algunos valores atípicos el cual no suseden en la realidad\n",
    "\n",
    "#el que mayor se repite en este caso es '3'\n",
    "df['all_aboard'] = df['all_aboard'].replace('-',df['all_aboard'].value_counts().index[0]) \n",
    "#el que mayor se repite en este caso es 'Douglas DC-3'\n",
    "df['ac_type'] = df['ac_type'].replace('-',df['ac_type'].value_counts().index[0]) \n",
    "#el que mayor se repite en este caso es 'Aeroflot'\n",
    "df['operador'] = df['operador'].replace('-',df['operador'].value_counts().index[1]) \n",
    "#el que mayor se repite en este caso es 1\n",
    "df['flight_no'] = df['flight_no'].replace('-',df['flight_no'].value_counts().index[1]) \n",
    "#el que mayor se repite en este caso es 'Training'\n",
    "df['ruta_completa'] = df['ruta_completa'].replace('-',df['ruta_completa'].value_counts().index[1]) \n",
    "#el que mayor se repite en este caso es 49\n",
    "df['registration'] = df['registration'].replace('-',df['registration'].value_counts().index[1]) \n",
    "#el que mayor se repite en este caso es 1\n",
    "df['cn_ln'] = df['cn_ln'].replace('-',df['cn_ln'].value_counts().index[1]) \n",
    "#el que mayor se repite en este caso es 0\n",
    "df['pasajeros_a_bordo'] = df['pasajeros_a_bordo'].replace('-',df['pasajeros_a_bordo'].value_counts().index[0]) \n",
    "#el que mayor se repite en este caso es 3\n",
    "df['crew_aboard'] = df['crew_aboard'].replace('-',df['crew_aboard'].value_counts().index[0]) \n",
    "#el que mayor se repite en este caso es 1\n",
    "df['cantidad_de_fallecidos'] = df['cantidad_de_fallecidos'].replace('-',df['cantidad_de_fallecidos'].value_counts().index[0]) \n",
    "#el que mayor se repite en este caso es 1\n",
    "df['passenger_fatalities'] = df['passenger_fatalities'].replace('-',df['passenger_fatalities'].value_counts().index[0]) \n",
    "#el que mayor se repite en este caso es 2\n",
    "df['crew_fatalities'] = df['crew_fatalities'].replace('-',df['crew_fatalities'].value_counts().index[0]) \n",
    "#el que mayor se repite en este caso es 0\n",
    "df['ground'] = df['ground'].replace('-',df['ground'].value_counts().index[0]) \n",
    "#el que mayor se repite en este caso es 'Crashed under unknown circumstances.'\n",
    "df['summary'] = df['summary'].replace('-',df['summary'].value_counts().index[1]) "
   ]
  },
  {
   "cell_type": "markdown",
   "metadata": {},
   "source": [
    "como se visualiza en la siguiente celda es que la mayoría de los choquees de los aviones es por circunstancias desconocidas "
   ]
  },
  {
   "cell_type": "code",
   "execution_count": 41,
   "metadata": {},
   "outputs": [
    {
     "data": {
      "text/plain": [
       "'Crashed while en route.'"
      ]
     },
     "execution_count": 41,
     "metadata": {},
     "output_type": "execute_result"
    }
   ],
   "source": [
    "df['summary'].value_counts().index[1]"
   ]
  },
  {
   "cell_type": "code",
   "execution_count": 42,
   "metadata": {},
   "outputs": [
    {
     "data": {
      "text/plain": [
       "array(['Demonstration', 'Air show', 'Test flight', ...,\n",
       "       'Naypyidaw - Anisakan', 'Cagayan de Oro-Lumbia - Jolo',\n",
       "       'Petropavlovsk - Palana'], dtype=object)"
      ]
     },
     "execution_count": 42,
     "metadata": {},
     "output_type": "execute_result"
    }
   ],
   "source": [
    "pd.unique(df['ruta_completa'])"
   ]
  },
  {
   "cell_type": "code",
   "execution_count": 43,
   "metadata": {},
   "outputs": [
    {
     "data": {
      "text/html": [
       "<div>\n",
       "<style scoped>\n",
       "    .dataframe tbody tr th:only-of-type {\n",
       "        vertical-align: middle;\n",
       "    }\n",
       "\n",
       "    .dataframe tbody tr th {\n",
       "        vertical-align: top;\n",
       "    }\n",
       "\n",
       "    .dataframe thead th {\n",
       "        text-align: right;\n",
       "    }\n",
       "</style>\n",
       "<table border=\"1\" class=\"dataframe\">\n",
       "  <thead>\n",
       "    <tr style=\"text-align: right;\">\n",
       "      <th></th>\n",
       "      <th>fecha</th>\n",
       "      <th>flight_no</th>\n",
       "      <th>ac_type</th>\n",
       "      <th>registration</th>\n",
       "      <th>cn_ln</th>\n",
       "      <th>all_aboard</th>\n",
       "      <th>crew_aboard</th>\n",
       "      <th>passenger_fatalities</th>\n",
       "      <th>crew_fatalities</th>\n",
       "      <th>ground</th>\n",
       "      <th>summary</th>\n",
       "      <th>hora_declarada</th>\n",
       "      <th>aux_declarada</th>\n",
       "      <th>ruta_del_accidente</th>\n",
       "      <th>operador</th>\n",
       "      <th>pasajeros_a_bordo</th>\n",
       "      <th>cantidad_de_fallecidos</th>\n",
       "      <th>ruta_completa</th>\n",
       "    </tr>\n",
       "  </thead>\n",
       "  <tbody>\n",
       "    <tr>\n",
       "      <th>1749</th>\n",
       "      <td>1959-01-27</td>\n",
       "      <td>1</td>\n",
       "      <td>Avro 688</td>\n",
       "      <td>G-AGRG</td>\n",
       "      <td>1255</td>\n",
       "      <td>6</td>\n",
       "      <td>6</td>\n",
       "      <td>0</td>\n",
       "      <td>2</td>\n",
       "      <td>0</td>\n",
       "      <td>The cargo plane overran the runway while takin...</td>\n",
       "      <td>06:09</td>\n",
       "      <td>5</td>\n",
       "      <td>Brindisi, Italy</td>\n",
       "      <td>Air Charter</td>\n",
       "      <td>0</td>\n",
       "      <td>2</td>\n",
       "      <td>England to Australia</td>\n",
       "    </tr>\n",
       "    <tr>\n",
       "      <th>969</th>\n",
       "      <td>1947-06-19</td>\n",
       "      <td>121</td>\n",
       "      <td>Lockheed 049-46-21 Constellation</td>\n",
       "      <td>NC88845</td>\n",
       "      <td>2045</td>\n",
       "      <td>36</td>\n",
       "      <td>9</td>\n",
       "      <td>7</td>\n",
       "      <td>7</td>\n",
       "      <td>0</td>\n",
       "      <td>While on a flight originating in New York and ...</td>\n",
       "      <td>23:40</td>\n",
       "      <td>5</td>\n",
       "      <td>Al Mayadin, Syria</td>\n",
       "      <td>Pan American World Airways</td>\n",
       "      <td>27</td>\n",
       "      <td>14</td>\n",
       "      <td>Karachi - Istanbul</td>\n",
       "    </tr>\n",
       "    <tr>\n",
       "      <th>1566</th>\n",
       "      <td>1956-03-28</td>\n",
       "      <td>1</td>\n",
       "      <td>Douglas C-47B</td>\n",
       "      <td>G-AMRB</td>\n",
       "      <td>16670/33418</td>\n",
       "      <td>3</td>\n",
       "      <td>3</td>\n",
       "      <td>0</td>\n",
       "      <td>1</td>\n",
       "      <td>0</td>\n",
       "      <td>During an instrument approach at night the pil...</td>\n",
       "      <td>00:00</td>\n",
       "      <td>5</td>\n",
       "      <td>Largs, England</td>\n",
       "      <td>Starways</td>\n",
       "      <td>0</td>\n",
       "      <td>1</td>\n",
       "      <td>Liverpool - Glasgow</td>\n",
       "    </tr>\n",
       "    <tr>\n",
       "      <th>4412</th>\n",
       "      <td>2002-10-01</td>\n",
       "      <td>1</td>\n",
       "      <td>Ilyushin IL-38 / Ilyushin IL-38</td>\n",
       "      <td>IN302 / IN304</td>\n",
       "      <td>IL38002/IL38004</td>\n",
       "      <td>12</td>\n",
       "      <td>12</td>\n",
       "      <td>0</td>\n",
       "      <td>12</td>\n",
       "      <td>5</td>\n",
       "      <td>The two Navy aircraft flying in formation in a...</td>\n",
       "      <td>00:00</td>\n",
       "      <td>5</td>\n",
       "      <td>Vasco, India</td>\n",
       "      <td>Military - Indian Navy</td>\n",
       "      <td>0</td>\n",
       "      <td>12</td>\n",
       "      <td>Military exercises</td>\n",
       "    </tr>\n",
       "    <tr>\n",
       "      <th>1977</th>\n",
       "      <td>1962-07-30</td>\n",
       "      <td>1</td>\n",
       "      <td>Douglas DC-3</td>\n",
       "      <td>F-BAOE</td>\n",
       "      <td>11769</td>\n",
       "      <td>8</td>\n",
       "      <td>8</td>\n",
       "      <td>0</td>\n",
       "      <td>4</td>\n",
       "      <td>0</td>\n",
       "      <td>After rotation, the airplane encountered diffi...</td>\n",
       "      <td>00:00</td>\n",
       "      <td>5</td>\n",
       "      <td>Coulommiers, France</td>\n",
       "      <td>Air France</td>\n",
       "      <td>0</td>\n",
       "      <td>4</td>\n",
       "      <td>Training</td>\n",
       "    </tr>\n",
       "  </tbody>\n",
       "</table>\n",
       "</div>"
      ],
      "text/plain": [
       "          fecha flight_no                           ac_type   registration  \\\n",
       "1749 1959-01-27         1                          Avro 688         G-AGRG   \n",
       "969  1947-06-19       121  Lockheed 049-46-21 Constellation        NC88845   \n",
       "1566 1956-03-28         1                     Douglas C-47B         G-AMRB   \n",
       "4412 2002-10-01         1   Ilyushin IL-38 / Ilyushin IL-38  IN302 / IN304   \n",
       "1977 1962-07-30         1                      Douglas DC-3         F-BAOE   \n",
       "\n",
       "                cn_ln all_aboard crew_aboard passenger_fatalities  \\\n",
       "1749             1255          6           6                    0   \n",
       "969              2045         36           9                    7   \n",
       "1566      16670/33418          3           3                    0   \n",
       "4412  IL38002/IL38004         12          12                    0   \n",
       "1977            11769          8           8                    0   \n",
       "\n",
       "     crew_fatalities ground  \\\n",
       "1749               2      0   \n",
       "969                7      0   \n",
       "1566               1      0   \n",
       "4412              12      5   \n",
       "1977               4      0   \n",
       "\n",
       "                                                summary hora_declarada  \\\n",
       "1749  The cargo plane overran the runway while takin...          06:09   \n",
       "969   While on a flight originating in New York and ...          23:40   \n",
       "1566  During an instrument approach at night the pil...          00:00   \n",
       "4412  The two Navy aircraft flying in formation in a...          00:00   \n",
       "1977  After rotation, the airplane encountered diffi...          00:00   \n",
       "\n",
       "      aux_declarada   ruta_del_accidente                    operador  \\\n",
       "1749              5      Brindisi, Italy                 Air Charter   \n",
       "969               5    Al Mayadin, Syria  Pan American World Airways   \n",
       "1566              5       Largs, England                    Starways   \n",
       "4412              5         Vasco, India      Military - Indian Navy   \n",
       "1977              5  Coulommiers, France                  Air France   \n",
       "\n",
       "     pasajeros_a_bordo cantidad_de_fallecidos         ruta_completa  \n",
       "1749                 0                      2  England to Australia  \n",
       "969                 27                     14    Karachi - Istanbul  \n",
       "1566                 0                      1   Liverpool - Glasgow  \n",
       "4412                 0                     12    Military exercises  \n",
       "1977                 0                      4              Training  "
      ]
     },
     "execution_count": 43,
     "metadata": {},
     "output_type": "execute_result"
    }
   ],
   "source": [
    "df.sample(5)"
   ]
  },
  {
   "cell_type": "markdown",
   "metadata": {},
   "source": [
    "Voy a crear una nueva columna llamada pais sacando de la columna ruta_de_accidente, con la ayuda de la lectura de un cities.csv, el cual me va a ayudar, que de acuerdo a la ciudad de la ruta del accidente le asigne al pais que le corresponde. "
   ]
  },
  {
   "cell_type": "code",
   "execution_count": 44,
   "metadata": {},
   "outputs": [],
   "source": [
    "df2 = pd.read_csv('./cities.csv')\n",
    "\n",
    "list1 = df2['country_name'].str.lower().tolist()\n",
    "list2 = df2['state_name'].str.lower().tolist()\n",
    "list3 = df2['name'].str.lower().tolist()"
   ]
  },
  {
   "cell_type": "code",
   "execution_count": 45,
   "metadata": {},
   "outputs": [
    {
     "data": {
      "text/plain": [
       "'United Kingdom'"
      ]
     },
     "execution_count": 45,
     "metadata": {},
     "output_type": "execute_result"
    }
   ],
   "source": [
    "def get_country(value):\n",
    "    new_value = value.split(', ')\n",
    "    try:\n",
    "        index = list1.index(new_value[-1].lower())\n",
    "    except:\n",
    "        try:\n",
    "            index = list2.index(new_value[-1].lower())\n",
    "        except:\n",
    "            try:\n",
    "                index = list3.index(new_value[-1].lower())\n",
    "            except:\n",
    "                return 'no encontrado'\n",
    "    return list1[index].title()\n",
    "\n",
    "get_country('Off West Hartlepool, England')"
   ]
  },
  {
   "cell_type": "code",
   "execution_count": 46,
   "metadata": {},
   "outputs": [
    {
     "data": {
      "text/html": [
       "<div>\n",
       "<style scoped>\n",
       "    .dataframe tbody tr th:only-of-type {\n",
       "        vertical-align: middle;\n",
       "    }\n",
       "\n",
       "    .dataframe tbody tr th {\n",
       "        vertical-align: top;\n",
       "    }\n",
       "\n",
       "    .dataframe thead th {\n",
       "        text-align: right;\n",
       "    }\n",
       "</style>\n",
       "<table border=\"1\" class=\"dataframe\">\n",
       "  <thead>\n",
       "    <tr style=\"text-align: right;\">\n",
       "      <th></th>\n",
       "      <th>fecha</th>\n",
       "      <th>flight_no</th>\n",
       "      <th>ac_type</th>\n",
       "      <th>registration</th>\n",
       "      <th>cn_ln</th>\n",
       "      <th>all_aboard</th>\n",
       "      <th>crew_aboard</th>\n",
       "      <th>passenger_fatalities</th>\n",
       "      <th>crew_fatalities</th>\n",
       "      <th>ground</th>\n",
       "      <th>summary</th>\n",
       "      <th>hora_declarada</th>\n",
       "      <th>aux_declarada</th>\n",
       "      <th>ruta_del_accidente</th>\n",
       "      <th>operador</th>\n",
       "      <th>pasajeros_a_bordo</th>\n",
       "      <th>cantidad_de_fallecidos</th>\n",
       "      <th>ruta_completa</th>\n",
       "      <th>pais</th>\n",
       "    </tr>\n",
       "  </thead>\n",
       "  <tbody>\n",
       "    <tr>\n",
       "      <th>0</th>\n",
       "      <td>1908-09-17</td>\n",
       "      <td>1</td>\n",
       "      <td>Wright Flyer III</td>\n",
       "      <td>49</td>\n",
       "      <td>1</td>\n",
       "      <td>2</td>\n",
       "      <td>1</td>\n",
       "      <td>1</td>\n",
       "      <td>0</td>\n",
       "      <td>0</td>\n",
       "      <td>During a demonstration flight, a U.S. Army fly...</td>\n",
       "      <td>17:18</td>\n",
       "      <td>5</td>\n",
       "      <td>Fort Myer, Virginia</td>\n",
       "      <td>Military - U.S. Army</td>\n",
       "      <td>1</td>\n",
       "      <td>1</td>\n",
       "      <td>Demonstration</td>\n",
       "      <td>United States</td>\n",
       "    </tr>\n",
       "    <tr>\n",
       "      <th>1</th>\n",
       "      <td>1909-09-07</td>\n",
       "      <td>1</td>\n",
       "      <td>Wright Byplane</td>\n",
       "      <td>SC1</td>\n",
       "      <td>1</td>\n",
       "      <td>1</td>\n",
       "      <td>1</td>\n",
       "      <td>0</td>\n",
       "      <td>0</td>\n",
       "      <td>0</td>\n",
       "      <td>Eugene Lefebvre was the first pilot to ever be...</td>\n",
       "      <td>00:00</td>\n",
       "      <td>5</td>\n",
       "      <td>Juvisy-sur-Orge, France</td>\n",
       "      <td>Military - U.S. Air Force</td>\n",
       "      <td>0</td>\n",
       "      <td>1</td>\n",
       "      <td>Air show</td>\n",
       "      <td>France</td>\n",
       "    </tr>\n",
       "    <tr>\n",
       "      <th>2</th>\n",
       "      <td>1912-07-12</td>\n",
       "      <td>1</td>\n",
       "      <td>Dirigible</td>\n",
       "      <td>49</td>\n",
       "      <td>1</td>\n",
       "      <td>5</td>\n",
       "      <td>5</td>\n",
       "      <td>0</td>\n",
       "      <td>5</td>\n",
       "      <td>0</td>\n",
       "      <td>First U.S. dirigible Akron exploded just offsh...</td>\n",
       "      <td>06:30</td>\n",
       "      <td>5</td>\n",
       "      <td>Atlantic City, New Jersey</td>\n",
       "      <td>Military - U.S. Navy</td>\n",
       "      <td>0</td>\n",
       "      <td>5</td>\n",
       "      <td>Test flight</td>\n",
       "      <td>United States</td>\n",
       "    </tr>\n",
       "    <tr>\n",
       "      <th>3</th>\n",
       "      <td>1913-08-06</td>\n",
       "      <td>1</td>\n",
       "      <td>Curtiss seaplane</td>\n",
       "      <td>49</td>\n",
       "      <td>1</td>\n",
       "      <td>1</td>\n",
       "      <td>1</td>\n",
       "      <td>0</td>\n",
       "      <td>1</td>\n",
       "      <td>0</td>\n",
       "      <td>The first fatal airplane accident in Canada oc...</td>\n",
       "      <td>00:00</td>\n",
       "      <td>5</td>\n",
       "      <td>Victoria, British Columbia, Canada</td>\n",
       "      <td>Private</td>\n",
       "      <td>0</td>\n",
       "      <td>1</td>\n",
       "      <td>Training</td>\n",
       "      <td>Canada</td>\n",
       "    </tr>\n",
       "    <tr>\n",
       "      <th>4</th>\n",
       "      <td>1913-09-09</td>\n",
       "      <td>1</td>\n",
       "      <td>Zeppelin L-1 (airship)</td>\n",
       "      <td>49</td>\n",
       "      <td>1</td>\n",
       "      <td>20</td>\n",
       "      <td>3</td>\n",
       "      <td>0</td>\n",
       "      <td>2</td>\n",
       "      <td>0</td>\n",
       "      <td>The airship flew into a thunderstorm and encou...</td>\n",
       "      <td>18:30</td>\n",
       "      <td>5</td>\n",
       "      <td>Over the North Sea</td>\n",
       "      <td>Military - German Navy</td>\n",
       "      <td>0</td>\n",
       "      <td>14</td>\n",
       "      <td>Training</td>\n",
       "      <td>no encontrado</td>\n",
       "    </tr>\n",
       "  </tbody>\n",
       "</table>\n",
       "</div>"
      ],
      "text/plain": [
       "       fecha flight_no                 ac_type registration cn_ln all_aboard  \\\n",
       "0 1908-09-17         1        Wright Flyer III           49     1          2   \n",
       "1 1909-09-07         1          Wright Byplane          SC1     1          1   \n",
       "2 1912-07-12         1               Dirigible           49     1          5   \n",
       "3 1913-08-06         1        Curtiss seaplane           49     1          1   \n",
       "4 1913-09-09         1  Zeppelin L-1 (airship)           49     1         20   \n",
       "\n",
       "  crew_aboard passenger_fatalities crew_fatalities ground  \\\n",
       "0           1                    1               0      0   \n",
       "1           1                    0               0      0   \n",
       "2           5                    0               5      0   \n",
       "3           1                    0               1      0   \n",
       "4           3                    0               2      0   \n",
       "\n",
       "                                             summary hora_declarada  \\\n",
       "0  During a demonstration flight, a U.S. Army fly...          17:18   \n",
       "1  Eugene Lefebvre was the first pilot to ever be...          00:00   \n",
       "2  First U.S. dirigible Akron exploded just offsh...          06:30   \n",
       "3  The first fatal airplane accident in Canada oc...          00:00   \n",
       "4  The airship flew into a thunderstorm and encou...          18:30   \n",
       "\n",
       "   aux_declarada                  ruta_del_accidente  \\\n",
       "0              5                 Fort Myer, Virginia   \n",
       "1              5             Juvisy-sur-Orge, France   \n",
       "2              5           Atlantic City, New Jersey   \n",
       "3              5  Victoria, British Columbia, Canada   \n",
       "4              5                  Over the North Sea   \n",
       "\n",
       "                    operador pasajeros_a_bordo cantidad_de_fallecidos  \\\n",
       "0       Military - U.S. Army                 1                      1   \n",
       "1  Military - U.S. Air Force                 0                      1   \n",
       "2       Military - U.S. Navy                 0                      5   \n",
       "3                    Private                 0                      1   \n",
       "4     Military - German Navy                 0                     14   \n",
       "\n",
       "   ruta_completa           pais  \n",
       "0  Demonstration  United States  \n",
       "1       Air show         France  \n",
       "2    Test flight  United States  \n",
       "3       Training         Canada  \n",
       "4       Training  no encontrado  "
      ]
     },
     "execution_count": 46,
     "metadata": {},
     "output_type": "execute_result"
    }
   ],
   "source": [
    "df['pais'] = df['ruta_del_accidente'].apply(lambda x: get_country(x))\n",
    "df.head()"
   ]
  },
  {
   "cell_type": "markdown",
   "metadata": {},
   "source": [
    "Voy a crear una nueva columna llamada country_hf sacando de la columna location_hf, voy a llamar a la misma función anterior para que me obtenga el pais de la columna location_hf el pais que le corresponde"
   ]
  },
  {
   "cell_type": "code",
   "execution_count": 47,
   "metadata": {},
   "outputs": [
    {
     "data": {
      "text/html": [
       "<div>\n",
       "<style scoped>\n",
       "    .dataframe tbody tr th:only-of-type {\n",
       "        vertical-align: middle;\n",
       "    }\n",
       "\n",
       "    .dataframe tbody tr th {\n",
       "        vertical-align: top;\n",
       "    }\n",
       "\n",
       "    .dataframe thead th {\n",
       "        text-align: right;\n",
       "    }\n",
       "</style>\n",
       "<table border=\"1\" class=\"dataframe\">\n",
       "  <thead>\n",
       "    <tr style=\"text-align: right;\">\n",
       "      <th></th>\n",
       "      <th>date_hf</th>\n",
       "      <th>operator_hf</th>\n",
       "      <th>ac_type_hf</th>\n",
       "      <th>location_hf</th>\n",
       "      <th>fatalities_hf</th>\n",
       "      <th>registration_hf</th>\n",
       "      <th>country_hf</th>\n",
       "    </tr>\n",
       "  </thead>\n",
       "  <tbody>\n",
       "    <tr>\n",
       "      <th>0</th>\n",
       "      <td>2022-10-27</td>\n",
       "      <td>Wyman Pilot Services</td>\n",
       "      <td>Canadair CL-415</td>\n",
       "      <td>Linguaglossa, Sicily</td>\n",
       "      <td>2</td>\n",
       "      <td>I-DPCN</td>\n",
       "      <td>Italy</td>\n",
       "    </tr>\n",
       "    <tr>\n",
       "      <th>1</th>\n",
       "      <td>2022-08-18</td>\n",
       "      <td>ALM Holding</td>\n",
       "      <td>Cessna 340</td>\n",
       "      <td>Watsonville, California</td>\n",
       "      <td>2</td>\n",
       "      <td>N740WJ</td>\n",
       "      <td>United States</td>\n",
       "    </tr>\n",
       "    <tr>\n",
       "      <th>2</th>\n",
       "      <td>2022-08-14</td>\n",
       "      <td>Wyman Pilot Services</td>\n",
       "      <td>Piper PA-31-310 Navajo</td>\n",
       "      <td>La Libertad, Campeche</td>\n",
       "      <td>1</td>\n",
       "      <td>I-DPCN</td>\n",
       "      <td>Mexico</td>\n",
       "    </tr>\n",
       "    <tr>\n",
       "      <th>3</th>\n",
       "      <td>2022-07-17</td>\n",
       "      <td>Gold Aero Aviation</td>\n",
       "      <td>Piper PA-46 (Malibu/Meridian/Mirage/Matrix/M-C...</td>\n",
       "      <td>North Las Vegas, Nevada</td>\n",
       "      <td>2</td>\n",
       "      <td>N97CX</td>\n",
       "      <td>United States</td>\n",
       "    </tr>\n",
       "    <tr>\n",
       "      <th>4</th>\n",
       "      <td>2022-07-15</td>\n",
       "      <td>Wyman Pilot Services</td>\n",
       "      <td>PZL-Mielec AN-2</td>\n",
       "      <td>Prochnookopskaya, Krasnodar Krai</td>\n",
       "      <td>2</td>\n",
       "      <td>RA-02240</td>\n",
       "      <td>Russia</td>\n",
       "    </tr>\n",
       "  </tbody>\n",
       "</table>\n",
       "</div>"
      ],
      "text/plain": [
       "     date_hf           operator_hf  \\\n",
       "0 2022-10-27  Wyman Pilot Services   \n",
       "1 2022-08-18           ALM Holding   \n",
       "2 2022-08-14  Wyman Pilot Services   \n",
       "3 2022-07-17    Gold Aero Aviation   \n",
       "4 2022-07-15  Wyman Pilot Services   \n",
       "\n",
       "                                          ac_type_hf  \\\n",
       "0                                    Canadair CL-415   \n",
       "1                                         Cessna 340   \n",
       "2                             Piper PA-31-310 Navajo   \n",
       "3  Piper PA-46 (Malibu/Meridian/Mirage/Matrix/M-C...   \n",
       "4                                    PZL-Mielec AN-2   \n",
       "\n",
       "                        location_hf  fatalities_hf registration_hf  \\\n",
       "0              Linguaglossa, Sicily              2          I-DPCN   \n",
       "1           Watsonville, California              2          N740WJ   \n",
       "2             La Libertad, Campeche              1          I-DPCN   \n",
       "3           North Las Vegas, Nevada              2           N97CX   \n",
       "4  Prochnookopskaya, Krasnodar Krai              2        RA-02240   \n",
       "\n",
       "      country_hf  \n",
       "0          Italy  \n",
       "1  United States  \n",
       "2         Mexico  \n",
       "3  United States  \n",
       "4         Russia  "
      ]
     },
     "execution_count": 47,
     "metadata": {},
     "output_type": "execute_result"
    }
   ],
   "source": [
    "df1['country_hf'] = df1['location_hf'].apply(lambda x: get_country(x))\n",
    "df1.head()"
   ]
  },
  {
   "cell_type": "code",
   "execution_count": 48,
   "metadata": {},
   "outputs": [
    {
     "data": {
      "text/plain": [
       "date_hf            0\n",
       "operator_hf        0\n",
       "ac_type_hf         0\n",
       "location_hf        0\n",
       "fatalities_hf      0\n",
       "registration_hf    0\n",
       "country_hf         0\n",
       "dtype: int64"
      ]
     },
     "execution_count": 48,
     "metadata": {},
     "output_type": "execute_result"
    }
   ],
   "source": [
    "df1.isnull().sum()"
   ]
  },
  {
   "cell_type": "markdown",
   "metadata": {},
   "source": [
    "Exportar a csv"
   ]
  },
  {
   "cell_type": "code",
   "execution_count": 49,
   "metadata": {},
   "outputs": [],
   "source": [
    "df.to_csv('AccidentesAviones_ok.csv', index=False)\n",
    "\n",
    "#exporté tambien el dataset adicicional\n",
    "\n",
    "df1.to_csv('HumanFactor_ok.csv', index=False)"
   ]
  }
 ],
 "metadata": {
  "kernelspec": {
   "display_name": "Python 3.10.4 64-bit",
   "language": "python",
   "name": "python3"
  },
  "language_info": {
   "codemirror_mode": {
    "name": "ipython",
    "version": 3
   },
   "file_extension": ".py",
   "mimetype": "text/x-python",
   "name": "python",
   "nbconvert_exporter": "python",
   "pygments_lexer": "ipython3",
   "version": "3.10.4"
  },
  "orig_nbformat": 4,
  "vscode": {
   "interpreter": {
    "hash": "c01cf4a2356650b355da24661dd0626acaa1665bc8e66dede1d15fa072b6b8b3"
   }
  }
 },
 "nbformat": 4,
 "nbformat_minor": 2
}
